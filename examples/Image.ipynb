{
 "cells": [
  {
   "cell_type": "markdown",
   "id": "7d7e50af",
   "metadata": {},
   "source": [
    "### Import dependencies"
   ]
  },
  {
   "cell_type": "code",
   "execution_count": 1,
   "id": "eb649b04",
   "metadata": {
    "execution": {
     "iopub.execute_input": "2023-01-12T00:03:31.202944Z",
     "iopub.status.busy": "2023-01-12T00:03:31.202944Z",
     "iopub.status.idle": "2023-01-12T00:03:31.613365Z",
     "shell.execute_reply": "2023-01-12T00:03:31.613365Z"
    }
   },
   "outputs": [
    {
     "name": "stdout",
     "output_type": "stream",
     "text": [
      "time: 375 ms (started: 2023-01-12 01:03:31 +01:00)\n"
     ]
    }
   ],
   "source": [
    "%load_ext autotime\n",
    "\n",
    "from IPython.display import display_html\n",
    "from PIL import Image as PILImage\n",
    "from io import BytesIO\n",
    "\n",
    "from img2table.document.image import Image\n",
    "from img2table.ocr import TesseractOCR"
   ]
  },
  {
   "cell_type": "markdown",
   "id": "21336bb3",
   "metadata": {},
   "source": [
    "### Image used for the example"
   ]
  },
  {
   "cell_type": "code",
   "execution_count": 2,
   "id": "023b4276",
   "metadata": {
    "execution": {
     "iopub.execute_input": "2023-01-12T00:03:31.613365Z",
     "iopub.status.busy": "2023-01-12T00:03:31.613365Z",
     "iopub.status.idle": "2023-01-12T00:03:31.676208Z",
     "shell.execute_reply": "2023-01-12T00:03:31.676208Z"
    }
   },
   "outputs": [
    {
     "data": {
      "image/png": "[encoded data removed]",
      "text/plain": [
       "<PIL.PngImagePlugin.PngImageFile image mode=RGBA size=1365x417>"
      ]
     },
     "execution_count": 2,
     "metadata": {},
     "output_type": "execute_result"
    },
    {
     "name": "stdout",
     "output_type": "stream",
     "text": [
      "time: 46 ms (started: 2023-01-12 01:03:31 +01:00)\n"
     ]
    }
   ],
   "source": [
    "img_path = \"data/tables.png\"\n",
    "PILImage.open(img_path)"
   ]
  },
  {
   "cell_type": "markdown",
   "id": "b595d562",
   "metadata": {},
   "source": [
    "### Instantiate objects"
   ]
  },
  {
   "cell_type": "code",
   "execution_count": 3,
   "id": "a172a717",
   "metadata": {
    "execution": {
     "iopub.execute_input": "2023-01-12T00:03:31.676208Z",
     "iopub.status.busy": "2023-01-12T00:03:31.676208Z",
     "iopub.status.idle": "2023-01-12T00:03:31.692132Z",
     "shell.execute_reply": "2023-01-12T00:03:31.692132Z"
    }
   },
   "outputs": [
    {
     "name": "stdout",
     "output_type": "stream",
     "text": [
      "time: 0 ns (started: 2023-01-12 01:03:31 +01:00)\n"
     ]
    }
   ],
   "source": [
    "# Definition of OCR instance, requires prior installation of Tesseract-OCR\n",
    "ocr = TesseractOCR()\n",
    "\n",
    "# Definition of image from path\n",
    "img_from_path = Image(src=img_path)\n",
    "\n",
    "# Definition of image from bytes\n",
    "with open(img_path, 'rb') as f:\n",
    "    img_bytes = f.read()\n",
    "img_from_bytes = Image(src=img_bytes)\n",
    "\n",
    "# Definition of image from file-like object\n",
    "img_from_file_like = Image(src=BytesIO(img_bytes))"
   ]
  },
  {
   "cell_type": "markdown",
   "id": "bb700fe0",
   "metadata": {},
   "source": [
    "### Extract tables"
   ]
  },
  {
   "cell_type": "code",
   "execution_count": 4,
   "id": "494e62de",
   "metadata": {
    "execution": {
     "iopub.execute_input": "2023-01-12T00:03:31.692132Z",
     "iopub.status.busy": "2023-01-12T00:03:31.692132Z",
     "iopub.status.idle": "2023-01-12T00:03:32.226993Z",
     "shell.execute_reply": "2023-01-12T00:03:32.226993Z"
    }
   },
   "outputs": [
    {
     "name": "stdout",
     "output_type": "stream",
     "text": [
      "time: 515 ms (started: 2023-01-12 01:03:31 +01:00)\n"
     ]
    }
   ],
   "source": [
    "# Extract tables\n",
    "extracted_tables = img_from_file_like.extract_tables(ocr=ocr, min_confidence=0)"
   ]
  },
  {
   "cell_type": "code",
   "execution_count": 5,
   "id": "0253eb9d",
   "metadata": {
    "execution": {
     "iopub.execute_input": "2023-01-12T00:03:32.226993Z",
     "iopub.status.busy": "2023-01-12T00:03:32.226993Z",
     "iopub.status.idle": "2023-01-12T00:03:32.242991Z",
     "shell.execute_reply": "2023-01-12T00:03:32.242991Z"
    }
   },
   "outputs": [
    {
     "data": {
      "text/html": [
       "<h3 style=\"text-align: center\">Extracted table n°1</h3>\n",
       "                   <p style=\"text-align: center\">\n",
       "                       <b>Title:</b> No title detected<br>\n",
       "                       <b>Bounding box:</b> x1=35, y1=20, x2=770, y2=326\n",
       "                   </p>\n",
       "                   <div align=\"center\"><table border=\"1\" class=\"dataframe\">\n",
       "  <thead>\n",
       "    <tr style=\"text-align: right;\">\n",
       "      <th></th>\n",
       "      <th>0</th>\n",
       "      <th>1</th>\n",
       "      <th>2</th>\n",
       "    </tr>\n",
       "  </thead>\n",
       "  <tbody>\n",
       "    <tr>\n",
       "      <th>0</th>\n",
       "      <td>Title</td>\n",
       "      <td>Title</td>\n",
       "      <td>Title</td>\n",
       "    </tr>\n",
       "    <tr>\n",
       "      <th>1</th>\n",
       "      <td>Line 1-Col 1</td>\n",
       "      <td>Line 1 - Col 2</td>\n",
       "      <td>Line 1-Col 3</td>\n",
       "    </tr>\n",
       "    <tr>\n",
       "      <th>2</th>\n",
       "      <td>Line 2 - Col 1</td>\n",
       "      <td>Merged Cells</td>\n",
       "      <td>Line 2-Col 3</td>\n",
       "    </tr>\n",
       "    <tr>\n",
       "      <th>3</th>\n",
       "      <td>Line3-Col 1</td>\n",
       "      <td>Merged Cells</td>\n",
       "      <td>Line 3-Col 3</td>\n",
       "    </tr>\n",
       "    <tr>\n",
       "      <th>4</th>\n",
       "      <td>Line 4-Col 1</td>\n",
       "      <td>Merged Cells</td>\n",
       "      <td>Line 4 - Col 3</td>\n",
       "    </tr>\n",
       "    <tr>\n",
       "      <th>5</th>\n",
       "      <td>Line 5-Col 1</td>\n",
       "      <td>Line 5 - Col 2</td>\n",
       "      <td>Line 5-Col 3</td>\n",
       "    </tr>\n",
       "  </tbody>\n",
       "</table></div>\n",
       "                   <hr>\n",
       "                "
      ]
     },
     "metadata": {},
     "output_type": "display_data"
    },
    {
     "data": {
      "text/html": [
       "<h3 style=\"text-align: center\">Extracted table n°2</h3>\n",
       "                   <p style=\"text-align: center\">\n",
       "                       <b>Title:</b> No title detected<br>\n",
       "                       <b>Bounding box:</b> x1=961, y1=21, x2=1154, y2=123\n",
       "                   </p>\n",
       "                   <div align=\"center\"><table border=\"1\" class=\"dataframe\">\n",
       "  <thead>\n",
       "    <tr style=\"text-align: right;\">\n",
       "      <th></th>\n",
       "      <th>0</th>\n",
       "      <th>1</th>\n",
       "    </tr>\n",
       "  </thead>\n",
       "  <tbody>\n",
       "    <tr>\n",
       "      <th>0</th>\n",
       "      <td>Test 1</td>\n",
       "      <td>Test 2</td>\n",
       "    </tr>\n",
       "    <tr>\n",
       "      <th>1</th>\n",
       "      <td>Test 3</td>\n",
       "      <td>Test 4</td>\n",
       "    </tr>\n",
       "  </tbody>\n",
       "</table></div>\n",
       "                   <hr>\n",
       "                "
      ]
     },
     "metadata": {},
     "output_type": "display_data"
    },
    {
     "name": "stdout",
     "output_type": "stream",
     "text": [
      "time: 0 ns (started: 2023-01-12 01:03:32 +01:00)\n"
     ]
    }
   ],
   "source": [
    "for idx, table in enumerate(extracted_tables):\n",
    "    display_html(table.html_repr(title=f\"Extracted table n°{idx + 1}\"), raw=True)"
   ]
  }
 ],
 "metadata": {
  "kernelspec": {
   "display_name": "Python 3 (ipykernel)",
   "language": "python",
   "name": "python3"
  },
  "language_info": {
   "codemirror_mode": {
    "name": "ipython",
    "version": 3
   },
   "file_extension": ".py",
   "mimetype": "text/x-python",
   "name": "python",
   "nbconvert_exporter": "python",
   "pygments_lexer": "ipython3",
   "version": "3.8.8"
  }
 },
 "nbformat": 4,
 "nbformat_minor": 5
}

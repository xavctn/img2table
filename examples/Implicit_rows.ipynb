{
 "cells": [
  {
   "cell_type": "markdown",
   "id": "7d7e50af",
   "metadata": {},
   "source": [
    "### Import dependencies"
   ]
  },
  {
   "cell_type": "code",
   "execution_count": 1,
   "id": "eb649b04",
   "metadata": {},
   "outputs": [
    {
     "name": "stdout",
     "output_type": "stream",
     "text": [
      "time: 4.64 s (started: 2023-09-19 22:03:28 +02:00)\n"
     ]
    }
   ],
   "source": [
    "%load_ext autotime\n",
    "\n",
    "from IPython.display import display_html\n",
    "from PIL import Image as PILImage\n",
    "\n",
    "from img2table.document import Image\n",
    "from img2table.ocr import TesseractOCR"
   ]
  },
  {
   "cell_type": "markdown",
   "id": "4ec5c901",
   "metadata": {},
   "source": [
    "The <code>implicit_rows</code> parameter is used to split existing rows into smaller ones if:\n",
    "1. The row contains multi-line cells\n",
    "2. Vertical separation between elements of the cell is large enough"
   ]
  },
  {
   "cell_type": "markdown",
   "id": "21336bb3",
   "metadata": {},
   "source": [
    "### Image used for the example"
   ]
  },
  {
   "cell_type": "code",
   "execution_count": 2,
   "id": "023b4276",
   "metadata": {},
   "outputs": [
    {
     "data": {
      "image/png": "[encoded data removed]",
      "text/plain": [
       "<PIL.PngImagePlugin.PngImageFile image mode=RGB size=632x344>"
      ]
     },
     "execution_count": 2,
     "metadata": {},
     "output_type": "execute_result"
    },
    {
     "name": "stdout",
     "output_type": "stream",
     "text": [
      "time: 16 ms (started: 2023-09-19 22:03:33 +02:00)\n"
     ]
    }
   ],
   "source": [
    "PILImage.open(\"data/implicit.png\")"
   ]
  },
  {
   "cell_type": "markdown",
   "id": "b595d562",
   "metadata": {},
   "source": [
    "### Instantiate objects"
   ]
  },
  {
   "cell_type": "code",
   "execution_count": 3,
   "id": "a172a717",
   "metadata": {},
   "outputs": [
    {
     "name": "stdout",
     "output_type": "stream",
     "text": [
      "time: 110 ms (started: 2023-09-19 22:03:34 +02:00)\n"
     ]
    }
   ],
   "source": [
    "# Define OCR instance, requires prior installation of Tesseract-OCR\n",
    "ocr = TesseractOCR()\n",
    "\n",
    "# Define image\n",
    "img = Image(src=\"data/implicit.png\")"
   ]
  },
  {
   "cell_type": "markdown",
   "id": "bb700fe0",
   "metadata": {},
   "source": [
    "### Extract tables"
   ]
  },
  {
   "cell_type": "code",
   "execution_count": 4,
   "id": "494e62de",
   "metadata": {},
   "outputs": [
    {
     "name": "stdout",
     "output_type": "stream",
     "text": [
      "time: 640 ms (started: 2023-09-19 22:03:36 +02:00)\n"
     ]
    }
   ],
   "source": [
    "# Extract tables without implicit rows\n",
    "extracted_tables = img.extract_tables(ocr=ocr, implicit_rows=False)\n",
    "table = extracted_tables.pop()\n",
    "\n",
    "# Extract tables with implicit rows\n",
    "extracted_tables_implicit = img.extract_tables(ocr=ocr, implicit_rows=True)\n",
    "table_implicit_rows = extracted_tables_implicit.pop()"
   ]
  },
  {
   "cell_type": "code",
   "execution_count": 5,
   "id": "0253eb9d",
   "metadata": {},
   "outputs": [
    {
     "data": {
      "text/html": [
       "<h3 style=\"text-align: center\">Regular table</h3>\n",
       "                   <p style=\"text-align: center\">\n",
       "                       <b>Title:</b> No title detected<br>\n",
       "                       <b>Bounding box:</b> x1=64, y1=12, x2=562, y2=314\n",
       "                   </p>\n",
       "                   <div align=\"center\"><table border=\"1\" class=\"dataframe\">\n",
       "  <thead>\n",
       "    <tr style=\"text-align: right;\">\n",
       "      <th></th>\n",
       "      <th>0</th>\n",
       "      <th>1</th>\n",
       "    </tr>\n",
       "  </thead>\n",
       "  <tbody>\n",
       "    <tr>\n",
       "      <th>0</th>\n",
       "      <td>Col1</td>\n",
       "      <td>Col 2</td>\n",
       "    </tr>\n",
       "    <tr>\n",
       "      <th>1</th>\n",
       "      <td>Row 1</td>\n",
       "      <td>Value 1</td>\n",
       "    </tr>\n",
       "    <tr>\n",
       "      <th>2</th>\n",
       "      <td>Implicit row 1\\nImplicit row 2\\nImplicit row 3</td>\n",
       "      <td>Implicit value 1\\nImplicit value 2\\nImplicit value 3</td>\n",
       "    </tr>\n",
       "    <tr>\n",
       "      <th>3</th>\n",
       "      <td>Row 3</td>\n",
       "      <td>Value 3</td>\n",
       "    </tr>\n",
       "  </tbody>\n",
       "</table></div>\n",
       "                   <hr>\n",
       "                "
      ]
     },
     "metadata": {},
     "output_type": "display_data"
    },
    {
     "data": {
      "text/html": [
       "<h3 style=\"text-align: center\">Table with implicit rows</h3>\n",
       "                   <p style=\"text-align: center\">\n",
       "                       <b>Title:</b> No title detected<br>\n",
       "                       <b>Bounding box:</b> x1=64, y1=12, x2=562, y2=314\n",
       "                   </p>\n",
       "                   <div align=\"center\"><table border=\"1\" class=\"dataframe\">\n",
       "  <thead>\n",
       "    <tr style=\"text-align: right;\">\n",
       "      <th></th>\n",
       "      <th>0</th>\n",
       "      <th>1</th>\n",
       "    </tr>\n",
       "  </thead>\n",
       "  <tbody>\n",
       "    <tr>\n",
       "      <th>0</th>\n",
       "      <td>Col1</td>\n",
       "      <td>Col 2</td>\n",
       "    </tr>\n",
       "    <tr>\n",
       "      <th>1</th>\n",
       "      <td>Row 1</td>\n",
       "      <td>Value 1</td>\n",
       "    </tr>\n",
       "    <tr>\n",
       "      <th>2</th>\n",
       "      <td>Implicit row 1</td>\n",
       "      <td>Implicit value 1</td>\n",
       "    </tr>\n",
       "    <tr>\n",
       "      <th>3</th>\n",
       "      <td>Implicit row 2</td>\n",
       "      <td>Implicit value 2</td>\n",
       "    </tr>\n",
       "    <tr>\n",
       "      <th>4</th>\n",
       "      <td>Implicit row 3</td>\n",
       "      <td>Implicit value 3</td>\n",
       "    </tr>\n",
       "    <tr>\n",
       "      <th>5</th>\n",
       "      <td>Row 3</td>\n",
       "      <td>Value 3</td>\n",
       "    </tr>\n",
       "  </tbody>\n",
       "</table></div>\n",
       "                   <hr>\n",
       "                "
      ]
     },
     "metadata": {},
     "output_type": "display_data"
    },
    {
     "name": "stdout",
     "output_type": "stream",
     "text": [
      "time: 0 ns (started: 2023-09-19 22:03:38 +02:00)\n"
     ]
    }
   ],
   "source": [
    "display_html(table.html_repr(title=\"Regular table\"), raw=True)\n",
    "display_html(table_implicit_rows.html_repr(title=\"Table with implicit rows\"), raw=True)"
   ]
  }
 ],
 "metadata": {
  "kernelspec": {
   "display_name": "Python 3 (ipykernel)",
   "language": "python",
   "name": "python3"
  },
  "language_info": {
   "codemirror_mode": {
    "name": "ipython",
    "version": 3
   },
   "file_extension": ".py",
   "mimetype": "text/x-python",
   "name": "python",
   "nbconvert_exporter": "python",
   "pygments_lexer": "ipython3",
   "version": "3.8.8"
  }
 },
 "nbformat": 4,
 "nbformat_minor": 5
}

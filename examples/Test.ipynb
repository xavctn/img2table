{
 "cells": [
  {
   "cell_type": "code",
   "execution_count": 1,
   "id": "f6f40de9",
   "metadata": {},
   "outputs": [
    {
     "name": "stderr",
     "output_type": "stream",
     "text": [
      "C:\\Users\\xavca\\PycharmProjects\\img2table\\venv\\lib\\site-packages\\skimage\\util\\dtype.py:27: DeprecationWarning: `np.bool8` is a deprecated alias for `np.bool_`.  (Deprecated NumPy 1.24)\n",
      "  np.bool8: (False, True),\n"
     ]
    }
   ],
   "source": [
    "from PIL import Image as PILImage\n",
    "from img2table.document import Image\n",
    "from img2table.ocr import PaddleOCR, TesseractOCR\n",
    "from img2table.tables.processing.common import get_contours_cell, is_contained_cell, merge_contours\n",
    "from img2table.tables.processing.bordered_tables.lines import detect_lines\n",
    "from img2table.tables.processing.prepare_image import prepare_image\n",
    "from img2table.tables.objects.cell import Cell\n",
    "from colordict import ColorDict\n",
    "import cv2\n",
    "import numpy as np"
   ]
  },
  {
   "cell_type": "code",
   "execution_count": 2,
   "id": "26acef7f",
   "metadata": {},
   "outputs": [],
   "source": [
    "import random\n",
    "colors = ColorDict()\n",
    "\n",
    "def get_color():\n",
    "    idx = random.randint(0, len(colors) - 1)\n",
    "    return list(colors.values())[idx]"
   ]
  },
  {
   "cell_type": "markdown",
   "id": "9a7b7082",
   "metadata": {},
   "source": [
    "### Loading image"
   ]
  },
  {
   "cell_type": "code",
   "execution_count": null,
   "id": "531e2460",
   "metadata": {},
   "outputs": [],
   "source": [
    "img = Image(r\"C:\\Users\\xavca\\Pictures\\test_imgs\\ebl.png\")\n",
    "ocr = PaddleOCR()\n",
    "ocr_df = ocr.of(img)\n",
    "\n",
    "img = prepare_image(list(img.images)[0])"
   ]
  },
  {
   "cell_type": "markdown",
   "id": "bfb20d8b",
   "metadata": {},
   "source": [
    "### Word image"
   ]
  },
  {
   "cell_type": "code",
   "execution_count": null,
   "id": "d89d4486",
   "metadata": {},
   "outputs": [],
   "source": [
    "from img2table.tables.processing.bordered_tables.tables.implicit_rows import create_word_image\n",
    "\n",
    "word_image = create_word_image(img=img, ocr_df=ocr_df, min_confidence=0)\n",
    "\n",
    "PILImage.fromarray(img)"
   ]
  },
  {
   "cell_type": "markdown",
   "id": "39030354",
   "metadata": {},
   "source": [
    "### Text segmentation"
   ]
  },
  {
   "cell_type": "code",
   "execution_count": null,
   "id": "c44da736",
   "metadata": {},
   "outputs": [],
   "source": [
    "from img2table.tables.processing.borderless_tables.segment_image import segment_image_text\n",
    "\n",
    "img_segments = segment_image_text(img=img, ocr_df=ocr_df)"
   ]
  },
  {
   "cell_type": "code",
   "execution_count": null,
   "id": "c82e94f6",
   "metadata": {},
   "outputs": [],
   "source": [
    "display_img = cv2.cvtColor(word_image.copy(), cv2.COLOR_GRAY2RGB)\n",
    "\n",
    "for segment in img_segments:\n",
    "    for cnt in segment:\n",
    "        cv2.rectangle(display_img, (cnt.x1, cnt.y1), (cnt.x2, cnt.y2), get_color(), 3)\n",
    "PILImage.fromarray(display_img)"
   ]
  },
  {
   "cell_type": "markdown",
   "id": "51da7dc5",
   "metadata": {},
   "source": [
    "### Table detection"
   ]
  },
  {
   "cell_type": "code",
   "execution_count": null,
   "id": "fb40f8c8",
   "metadata": {},
   "outputs": [],
   "source": [
    "from img2table.tables.processing.borderless_tables.alignment import cluster_aligned_text\n",
    "from img2table.tables.processing.borderless_tables.identify_tables import identify_tables\n",
    "from img2table.tables.processing.borderless_tables.table_creation import create_table_from_clusters\n",
    "\n",
    "list_tables = list()\n",
    "alignment_cls = list()\n",
    "table_cls = list()\n",
    "for segment in img_segments:\n",
    "    # Cluster text contours based on alignment\n",
    "    alignment_clusters = cluster_aligned_text(segment=segment)\n",
    "    alignment_cls += alignment_clusters\n",
    "\n",
    "    # Table detection based on clusters\n",
    "    table_clusters = identify_tables(clusters=alignment_clusters)\n",
    "    table_cls += table_clusters\n",
    "\n",
    "    # Create table objects\n",
    "    for table_cluster in table_clusters:\n",
    "        table = create_table_from_clusters(tb_clusters=table_cluster,\n",
    "                                           segment_cells=[c for c in segment])\n",
    "\n",
    "        if table:\n",
    "            list_tables.append(table)"
   ]
  },
  {
   "cell_type": "markdown",
   "id": "1c3846c1",
   "metadata": {},
   "source": [
    "### Alignment"
   ]
  },
  {
   "cell_type": "code",
   "execution_count": null,
   "id": "a608cde5",
   "metadata": {},
   "outputs": [],
   "source": [
    "display_img = cv2.cvtColor(word_image.copy(), cv2.COLOR_GRAY2RGB)\n",
    "\n",
    "for clust in alignment_cls:\n",
    "    color = get_color()\n",
    "    for cnt in clust:\n",
    "        cv2.rectangle(display_img, (cnt.x1, cnt.y1), (cnt.x2, cnt.y2), color, 3)\n",
    "\n",
    "PILImage.fromarray(display_img)"
   ]
  },
  {
   "cell_type": "markdown",
   "id": "dcd714ed",
   "metadata": {},
   "source": [
    "### Clusters"
   ]
  },
  {
   "cell_type": "code",
   "execution_count": null,
   "id": "0ea27c2c",
   "metadata": {},
   "outputs": [],
   "source": [
    "display_img = cv2.cvtColor(word_image.copy(), cv2.COLOR_GRAY2RGB)\n",
    "\n",
    "for tb in table_cls:\n",
    "    color = get_color()\n",
    "    for clust in tb:\n",
    "        for cnt in clust:\n",
    "            cv2.rectangle(display_img, (cnt.x1, cnt.y1), (cnt.x2, cnt.y2), color, 3)\n",
    "\n",
    "PILImage.fromarray(display_img)"
   ]
  },
  {
   "cell_type": "markdown",
   "id": "491e14b1",
   "metadata": {},
   "source": [
    "### Tables"
   ]
  },
  {
   "cell_type": "code",
   "execution_count": null,
   "id": "9cba0bbf",
   "metadata": {},
   "outputs": [],
   "source": [
    "display_img = cv2.cvtColor(word_image.copy(), cv2.COLOR_GRAY2RGB)\n",
    "\n",
    "for table in list_tables:\n",
    "    color = get_color()\n",
    "    for row in table.extracted_table.content.values():\n",
    "        for cell in row:\n",
    "            cv2.rectangle(display_img, (cell.bbox.x1, cell.bbox.y1), (cell.bbox.x2, cell.bbox.y2), color, 2)\n",
    "\n",
    "PILImage.fromarray(display_img)"
   ]
  },
  {
   "cell_type": "code",
   "execution_count": null,
   "id": "81d51a91",
   "metadata": {},
   "outputs": [],
   "source": []
  },
  {
   "cell_type": "code",
   "execution_count": null,
   "id": "6c823d07",
   "metadata": {},
   "outputs": [],
   "source": []
  }
 ],
 "metadata": {
  "kernelspec": {
   "display_name": "Python 3 (ipykernel)",
   "language": "python",
   "name": "python3"
  },
  "language_info": {
   "codemirror_mode": {
    "name": "ipython",
    "version": 3
   },
   "file_extension": ".py",
   "mimetype": "text/x-python",
   "name": "python",
   "nbconvert_exporter": "python",
   "pygments_lexer": "ipython3",
   "version": "3.8.8"
  }
 },
 "nbformat": 4,
 "nbformat_minor": 5
}
